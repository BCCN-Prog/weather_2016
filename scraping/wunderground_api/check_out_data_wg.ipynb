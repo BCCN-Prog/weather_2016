{
 "cells": [
  {
   "cell_type": "code",
   "execution_count": 19,
   "metadata": {
    "collapsed": false
   },
   "outputs": [
    {
     "name": "stdout",
     "output_type": "stream",
     "text": [
      "Berlin\n",
      "24\n"
     ]
    }
   ],
   "source": [
    "import pickle\n",
    "import numpy as np\n",
    "import matplotlib.pyplot as plt\n",
    "import pandas\n",
    "%matplotlib inline\n",
    "\n",
    "\n",
    "with open('test_10days.pkl', 'rb') as f:\n",
    "    dat = pickle.load(f)\n",
    "    f.close()\n",
    "    \n",
    "with open('test_hourly.pkl', 'rb') as g:\n",
    "    dh = pickle.load(g)\n",
    "    f.close()\n",
    "    \n",
    "#print (dh)\n",
    "    \n",
    "print (dat ['location']['city'])\n",
    "#print (dat ['forecast10day']['high'])\n"
   ]
  },
  {
   "cell_type": "code",
   "execution_count": 48,
   "metadata": {
    "collapsed": false
   },
   "outputs": [
    {
     "name": "stdout",
     "output_type": "stream",
     "text": [
      "52.51666641\n",
      "10\n",
      "5\n",
      "24\n",
      "18\n",
      "19\n",
      "13\n",
      "5\n",
      "50\n",
      "nan\n"
     ]
    }
   ],
   "source": [
    "#10 days\n",
    "#import ijson\n",
    "#\n",
    "print(dat['location']['lat'])\n",
    "datf = dat['forecast']['simpleforecast']['forecastday']\n",
    "\n",
    "print (len(datf))\n",
    "#date\n",
    "print(datf[0]['date']['month'])\n",
    "print(datf[0]['date']['day'])\n",
    "#maxwind\n",
    "print(datf[0]['maxwind']['kph'])\n",
    "#high temperature\n",
    "print(datf[0]['high']['celsius'])\n",
    "#low temperature\n",
    "print(datf[0]['low']['celsius'])\n",
    "#rain amplitude\n",
    "print(datf[0]['qpf_allday']['mm'])\n",
    "#rain chance\n",
    "print(datf[0]['pop'])\n",
    "#pressure\n",
    "g = np.NaN\n",
    "print (g)\n",
    "        "
   ]
  },
  {
   "cell_type": "code",
   "execution_count": 45,
   "metadata": {
    "collapsed": false
   },
   "outputs": [
    {
     "name": "stdout",
     "output_type": "stream",
     "text": [
      "05\n",
      "24\n",
      "2016\n",
      "Berlin\n",
      "20\n",
      "65\n",
      "1008\n",
      "21\n",
      "1\n",
      "45\n",
      "69\n",
      "nu\n",
      "36\n",
      "82\n"
     ]
    }
   ],
   "source": [
    "#date\n",
    "print (dh['hourly_forecast'][3]['FCTTIME']['mon_padded'])\n",
    "print (dh['hourly_forecast'][3]['FCTTIME']['mday_padded'])\n",
    "print (dh['hourly_forecast'][3]['FCTTIME']['year'])\n",
    "#location\n",
    "print (dh['location']['city'])\n",
    "#temp\n",
    "print (dh['hourly_forecast'][1]['temp']['metric'])\n",
    "#humidity\n",
    "print (dh['hourly_forecast'][1]['humidity'])\n",
    "#pressure\n",
    "print (dh['hourly_forecast'][1]['mslp']['metric'])\n",
    "#wind_speed\n",
    "print (dh['hourly_forecast'][1]['wspd']['metric'])\n",
    "#rain_amt\n",
    "print (dh['hourly_forecast'][1]['qpf']['metric'])\n",
    "#rain_chance\n",
    "print (dh['hourly_forecast'][1]['pop'])\n",
    "#cloud_cover\n",
    "print (dh['hourly_forecast'][1]['sky'])\n",
    "\n",
    "print ('nu')\n",
    "print (len(dh['hourly_forecast']))\n",
    "print (dh['hourly_forecast'][35]['sky'])\n"
   ]
  },
  {
   "cell_type": "code",
   "execution_count": 4,
   "metadata": {
    "collapsed": false
   },
   "outputs": [
    {
     "name": "stdout",
     "output_type": "stream",
     "text": [
      "True\n"
     ]
    }
   ],
   "source": [
    "print ('hourly_forecast' in dh.keys())"
   ]
  },
  {
   "cell_type": "code",
   "execution_count": null,
   "metadata": {
    "collapsed": true
   },
   "outputs": [],
   "source": []
  }
 ],
 "metadata": {
  "kernelspec": {
   "display_name": "Python 3",
   "language": "python",
   "name": "python3"
  },
  "language_info": {
   "codemirror_mode": {
    "name": "ipython",
    "version": 3
   },
   "file_extension": ".py",
   "mimetype": "text/x-python",
   "name": "python",
   "nbconvert_exporter": "python",
   "pygments_lexer": "ipython3",
   "version": "3.5.1"
  }
 },
 "nbformat": 4,
 "nbformat_minor": 0
}
