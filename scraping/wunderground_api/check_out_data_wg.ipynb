{
 "cells": [
  {
   "cell_type": "code",
   "execution_count": 19,
   "metadata": {
    "collapsed": false
   },
   "outputs": [
    {
     "name": "stdout",
     "output_type": "stream",
     "text": [
      "Berlin\n",
      "24\n"
     ]
    }
   ],
   "source": [
    "import pickle\n",
    "import numpy as np\n",
    "import matplotlib.pyplot as plt\n",
    "import pandas\n",
    "%matplotlib inline\n",
    "\n",
    "\n",
    "with open('test_10days.pkl', 'rb') as f:\n",
    "    dat = pickle.load(f)\n",
    "    f.close()\n",
    "    \n",
    "with open('test_hourly.pkl', 'rb') as g:\n",
    "    dh = pickle.load(g)\n",
    "    f.close()\n",
    "    \n",
    "#print (dh)\n",
    "    \n",
    "print (dat ['location']['city'])\n",
    "#print (dat ['forecast10day']['high'])\n"
   ]
  },
  {
   "cell_type": "code",
   "execution_count": 66,
   "metadata": {
    "collapsed": false,
    "scrolled": true
   },
   "outputs": [
    {
     "name": "stdout",
     "output_type": "stream",
     "text": [
      "52.51666641\n",
      "10\n",
      "month\n",
      "05\n",
      "24\n",
      "18\n",
      "19\n",
      "13\n",
      "5\n",
      "50\n",
      "nan\n"
     ]
    }
   ],
   "source": [
    "#10 days\n",
    "#import ijson\n",
    "#\n",
    "print(dat['location']['lat'])\n",
    "datf = dat['forecast']['simpleforecast']['forecastday']\n",
    "\n",
    "print (len(datf))\n",
    "#date\n",
    "month = datf[0]['date']['month']\n",
    "if len(str(month))<2: \n",
    "    print ('month')\n",
    "    m = '0'  + str(month)\n",
    "    print (m)\n",
    "print(datf[0]['date']['day'])\n",
    "#maxwind\n",
    "print(datf[0]['maxwind']['kph'])\n",
    "#high temperature\n",
    "print(datf[0]['high']['celsius'])\n",
    "#low temperature\n",
    "print(datf[0]['low']['celsius'])\n",
    "#rain amplitude\n",
    "print(datf[0]['qpf_allday']['mm'])\n",
    "#rain chance\n",
    "print(datf[0]['pop'])\n",
    "#pressure\n",
    "g = np.NaN\n",
    "print (g)\n",
    "        "
   ]
  },
  {
   "cell_type": "code",
   "execution_count": 45,
   "metadata": {
    "collapsed": false
   },
   "outputs": [
    {
     "name": "stdout",
     "output_type": "stream",
     "text": [
      "05\n",
      "24\n",
      "2016\n",
      "Berlin\n",
      "20\n",
      "65\n",
      "1008\n",
      "21\n",
      "1\n",
      "45\n",
      "69\n",
      "nu\n",
      "36\n",
      "82\n"
     ]
    }
   ],
   "source": [
    "#date\n",
    "print (dh['hourly_forecast'][3]['FCTTIME']['mon_padded'])\n",
    "print (dh['hourly_forecast'][3]['FCTTIME']['mday_padded'])\n",
    "print (dh['hourly_forecast'][3]['FCTTIME']['year'])\n",
    "#location\n",
    "print (dh['location']['city'])\n",
    "#temp\n",
    "print (dh['hourly_forecast'][1]['temp']['metric'])\n",
    "#humidity\n",
    "print (dh['hourly_forecast'][1]['humidity'])\n",
    "#pressure\n",
    "print (dh['hourly_forecast'][1]['mslp']['metric'])\n",
    "#wind_speed\n",
    "print (dh['hourly_forecast'][1]['wspd']['metric'])\n",
    "#rain_amt\n",
    "print (dh['hourly_forecast'][1]['qpf']['metric'])\n",
    "#rain_chance\n",
    "print (dh['hourly_forecast'][1]['pop'])\n",
    "#cloud_cover\n",
    "print (dh['hourly_forecast'][1]['sky'])\n",
    "\n",
    "print ('nu')\n",
    "print (len(dh['hourly_forecast']))\n",
    "print (dh['hourly_forecast'][35]['sky'])\n"
   ]
  },
  {
   "cell_type": "code",
   "execution_count": 4,
   "metadata": {
    "collapsed": false
   },
   "outputs": [
    {
     "name": "stdout",
     "output_type": "stream",
     "text": [
      "True\n"
     ]
    }
   ],
   "source": [
    "print ('hourly_forecast' in dh.keys())"
   ]
  },
  {
   "cell_type": "code",
   "execution_count": 60,
   "metadata": {
    "collapsed": false
   },
   "outputs": [
    {
     "ename": "ValueError",
     "evalue": "invalid literal for int() with base 10: '2016_0608'",
     "output_type": "error",
     "traceback": [
      "\u001b[1;31m---------------------------------------------------------------------------\u001b[0m",
      "\u001b[1;31mValueError\u001b[0m                                Traceback (most recent call last)",
      "\u001b[1;32m<ipython-input-60-f247ccca8423>\u001b[0m in \u001b[0;36m<module>\u001b[1;34m()\u001b[0m\n\u001b[0;32m      9\u001b[0m \u001b[0myear\u001b[0m \u001b[1;33m=\u001b[0m \u001b[0mfn\u001b[0m\u001b[1;33m[\u001b[0m\u001b[1;36m19\u001b[0m\u001b[1;33m:\u001b[0m\u001b[1;36m24\u001b[0m\u001b[1;33m]\u001b[0m\u001b[1;33m\u001b[0m\u001b[0m\n\u001b[0;32m     10\u001b[0m \u001b[1;33m\u001b[0m\u001b[0m\n\u001b[1;32m---> 11\u001b[1;33m \u001b[0mdate\u001b[0m \u001b[1;33m=\u001b[0m \u001b[0mint\u001b[0m\u001b[1;33m(\u001b[0m\u001b[1;34m'{}{}{}'\u001b[0m\u001b[1;33m.\u001b[0m\u001b[0mformat\u001b[0m\u001b[1;33m(\u001b[0m\u001b[0myear\u001b[0m\u001b[1;33m,\u001b[0m \u001b[0mmonth\u001b[0m\u001b[1;33m,\u001b[0m \u001b[0mday\u001b[0m\u001b[1;33m)\u001b[0m\u001b[1;33m)\u001b[0m\u001b[1;33m\u001b[0m\u001b[0m\n\u001b[0m\u001b[0;32m     12\u001b[0m \u001b[0mloc3\u001b[0m \u001b[1;33m=\u001b[0m \u001b[0mfn\u001b[0m\u001b[1;33m[\u001b[0m\u001b[1;36m30\u001b[0m\u001b[1;33m:\u001b[0m\u001b[1;36m33\u001b[0m\u001b[1;33m]\u001b[0m \u001b[1;31m#first 3 location letters\u001b[0m\u001b[1;33m\u001b[0m\u001b[0m\n\u001b[0;32m     13\u001b[0m \u001b[1;33m\u001b[0m\u001b[0m\n",
      "\u001b[1;31mValueError\u001b[0m: invalid literal for int() with base 10: '2016_0608'"
     ]
    }
   ],
   "source": [
    "fn = '/blub/bla/wunderground_08_06_2016_10_36_Berlin_10days.pkl'\n",
    "\n",
    "gr =  [pos for pos, char in enumerate(fn) if char == '/']\n",
    "gr.append(0)\n",
    "os = max(gr)\n",
    "fn = fn[os+1:]\n",
    "day = fn[13:15]\n",
    "month = fn[16:18]\n",
    "year = fn[19:24]\n",
    "try:\n",
    "    date = int('{}{}{}'.format(year, month, day))\n",
    "except ValueError:\n",
    "loc3 = fn[30:33] #first 3 location letters\n",
    "\n",
    "print (date)\n"
   ]
  },
  {
   "cell_type": "code",
   "execution_count": 51,
   "metadata": {
    "collapsed": true
   },
   "outputs": [],
   "source": [
    "?fn.index"
   ]
  },
  {
   "cell_type": "code",
   "execution_count": null,
   "metadata": {
    "collapsed": true
   },
   "outputs": [],
   "source": []
  }
 ],
 "metadata": {
  "kernelspec": {
   "display_name": "Python 3",
   "language": "python",
   "name": "python3"
  },
  "language_info": {
   "codemirror_mode": {
    "name": "ipython",
    "version": 3
   },
   "file_extension": ".py",
   "mimetype": "text/x-python",
   "name": "python",
   "nbconvert_exporter": "python",
   "pygments_lexer": "ipython3",
   "version": "3.5.1"
  }
 },
 "nbformat": 4,
 "nbformat_minor": 0
}
