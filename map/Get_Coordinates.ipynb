{
 "cells": [
  {
   "cell_type": "code",
   "execution_count": 51,
   "metadata": {
    "collapsed": false
   },
   "outputs": [
    {
     "name": "stdout",
     "output_type": "stream",
     "text": [
      "Help on package mpl_toolkits:\n",
      "\n",
      "NAME\n",
      "    mpl_toolkits\n",
      "\n",
      "FILE\n",
      "    (built-in)\n",
      "\n",
      "PACKAGE CONTENTS\n",
      "    axes_grid (package)\n",
      "    axes_grid1 (package)\n",
      "    axisartist (package)\n",
      "    exceltools\n",
      "    gtktools\n",
      "    mplot3d (package)\n",
      "    tests (package)\n",
      "\n",
      "\n"
     ]
    }
   ],
   "source": [
    "import numpy as np\n",
    "import pandas as pd\n",
    "import matplotlib.pyplot as plt\n",
    "import mpl_toolkits\n",
    "from matplotlib import cm as CM\n",
    "from matplotlib import mlab as ml\n",
    "#from mpl_toolkits.basemap import Basemap\n",
    "help (mpl_toolkits)"
   ]
  },
  {
   "cell_type": "code",
   "execution_count": 52,
   "metadata": {
    "collapsed": false
   },
   "outputs": [
    {
     "data": {
      "text/plain": [
       "'/usr/local/opt/python/bin/python2.7'"
      ]
     },
     "execution_count": 52,
     "metadata": {},
     "output_type": "execute_result"
    }
   ],
   "source": [
    "import sys\n",
    "sys.executable"
   ]
  },
  {
   "cell_type": "code",
   "execution_count": 3,
   "metadata": {
    "collapsed": false,
    "scrolled": true
   },
   "outputs": [
    {
     "name": "stderr",
     "output_type": "stream",
     "text": [
      "/usr/local/lib/python2.7/site-packages/pandas/io/parsers.py:1164: DtypeWarning: Columns (0) have mixed types. Specify dtype option on import or set low_memory=False.\n",
      "  data = self._reader.read(nrows)\n"
     ]
    }
   ],
   "source": [
    "data_old=pd.read_table('produkt_klima_Tageswerte_18631201_20151231_02928.txt', sep=';')\n",
    "data_new=pd.read_table('produkt_klima_Tageswerte_20141016_20160417_02928.txt', sep=';')"
   ]
  },
  {
   "cell_type": "code",
   "execution_count": 11,
   "metadata": {
    "collapsed": false
   },
   "outputs": [],
   "source": [
    "#replace the unknown values with None\n",
    "data=data_old.replace(['eor', -999.0, 'NaN'],['None', 'None', 'None'])"
   ]
  },
  {
   "cell_type": "code",
   "execution_count": 13,
   "metadata": {
    "collapsed": false
   },
   "outputs": [],
   "source": [
    "#Modify the text file with coordinates into a format more easily accessible to load into a panda dataframe\n",
    "with open('KL_Tageswerte_Beschreibung_Stationen.txt', 'r') as ro, \\\n",
    "    open('coordinates.txt', 'a') as rw: #create a new file with the name coordinated\n",
    "      for line in ro.readlines(): \n",
    "        Stations_id=line[0:11] #define where to split the string of information based on number of characters\n",
    "        von_datum=line[12:20]\n",
    "        bis_datum=line[21:29]\n",
    "        Stationshoehe=line[30:44]\n",
    "        geoBreite=line[45:56]\n",
    "        geoLaenge=line[57:66]\n",
    "        Stationsname=line[67:108]\n",
    "        Bundesland=line[108:]\n",
    "\n",
    "        Stations_id_strip=Stations_id.strip() #remove space before and after the value\n",
    "        von_datum_strip=von_datum.strip()\n",
    "        bis_datum_strip=bis_datum.strip()\n",
    "        Stationshoehe_strip=Stationshoehe.strip()\n",
    "        geoBreite_strip=geoBreite.strip()\n",
    "        geoLaenge_strip=geoLaenge.strip()\n",
    "        Stationsname_strip=Stationsname.strip()\n",
    "        Bundesland_strip=Bundesland.strip()\n",
    "\n",
    "        seq = (Stations_id_strip, von_datum_strip,bis_datum_strip,Stationshoehe_strip,geoBreite_strip,geoLaenge_strip,Stationsname_strip,Bundesland_strip)\n",
    "        rw.write(';'.join(seq) + '\\n') #write a new file with the different columns joined but separated with a ;)"
   ]
  },
  {
   "cell_type": "code",
   "execution_count": 6,
   "metadata": {
    "collapsed": false
   },
   "outputs": [],
   "source": [
    "'''#Modify the text file with coordinates into a format more easily accessible to load into a panda dataframe\n",
    "with open('KL_Tageswerte_Beschreibung_Stationen.txt', 'r') as ro, \\\n",
    "    open('coordinates.txt', 'a') as rw: #create a new file with the name coordinated\n",
    "      for line in ro.readlines()[1:]: \n",
    "        #Stations_id=line[0:11] #define where to split the string of information based on number of characters\n",
    "        #von_datum=line[12:20]\n",
    "        #bis_datum=line[21:29]\n",
    "        #Stationshoehe=line[30:44]\n",
    "        geoBreite=line[45:56]\n",
    "        geoLaenge=line[57:66]\n",
    "        #Stationsname=line[67:108]\n",
    "        #Bundesland=line[108:]\n",
    "\n",
    "        #Stations_id_strip=Stations_id.strip() #remove space before and after the value\n",
    "        #von_datum_strip=von_datum.strip()\n",
    "        #bis_datum_strip=bis_datum.strip()\n",
    "        #Stationshoehe_strip=Stationshoehe.strip()\n",
    "        geoBreite_strip=geoBreite.strip()\n",
    "        geoLaenge_strip=geoLaenge.strip()\n",
    "        #Stationsname_strip=Stationsname.strip()\n",
    "        #Bundesland_strip=Bundesland.strip()\n",
    "        \n",
    "        seq = (geoBreite_strip,geoLaenge_strip)\n",
    "        rw.write(';'.join(seq) + '\\n') #write a new file with the different columns joined but separated with a ;)\n",
    "#seq = (Stations_id_strip, von_datum_strip,bis_datum_strip,Stationshoehe_strip,geoBreite_strip,geoLaenge_strip,Stationsname_strip,Bundesland_strip)rw.write(';'.join(seq) + '\\n') #write a new file with the different columns joined but separated with a ;)\n",
    "'''"
   ]
  },
  {
   "cell_type": "code",
   "execution_count": 27,
   "metadata": {
    "collapsed": false
   },
   "outputs": [],
   "source": [
    "stations_temp=pd.read_table('coordinates.txt', sep=';') #read the newly created date file\n",
    "hop=stations_temp.as_matrix(columns=None) # convert to an array\n",
    "test=hop[1:-1,4:6]"
   ]
  },
  {
   "cell_type": "code",
   "execution_count": 29,
   "metadata": {
    "collapsed": false
   },
   "outputs": [
    {
     "data": {
      "text/plain": [
       "(1089, 2)"
      ]
     },
     "execution_count": 29,
     "metadata": {},
     "output_type": "execute_result"
    }
   ],
   "source": [
    "def station_map(lats, lons):\n",
    "    map = Basemap(projection='lcc', lat_0 = 51, lon_0 = 10, resolution = 'i', width = 850000, height = 1000000)\n",
    "    a,b = map(lons,lats)\n",
    "    map.plot(a,b,'bo')\n",
    "    map.drawcoastlines()\n",
    "    map.drawcountries()\n",
    "#    map.fillcontinents(color = 'coral')\n",
    "    map.drawmapboundary()\n",
    "    \n",
    "    x, y, z = np.random.rand(3, 1000000)\n",
    "    x *= 12e6\n",
    "    y *= 9e6\n",
    "    z *= 20000\n",
    "    \n",
    "    gridsize = 1000\n",
    "    map.hexbin(x, y, C=z, gridsize=gridsize, cmap=plt.cm.YlGnBu)\n",
    "    \n",
    "    cb = map.colorbar()\n",
    "#    map.set_label('Density')\n",
    "    \n",
    "    plt.show()"
   ]
  },
  {
   "cell_type": "code",
   "execution_count": 38,
   "metadata": {
    "collapsed": false
   },
   "outputs": [],
   "source": [
    "test=test.astype(float)"
   ]
  },
  {
   "cell_type": "code",
   "execution_count": 39,
   "metadata": {
    "collapsed": false
   },
   "outputs": [
    {
     "data": {
      "text/plain": [
       "array([[  95.6826,   17.6986],\n",
       "       [ 101.5654,   12.1882],\n",
       "       [ 105.867 ,   16.474 ],\n",
       "       ..., \n",
       "       [  96.8836,   19.8432],\n",
       "       [ 107.0934,   19.9432],\n",
       "       [  95.7522,   21.1696]])"
      ]
     },
     "execution_count": 39,
     "metadata": {},
     "output_type": "execute_result"
    }
   ],
   "source": [
    "test*2"
   ]
  },
  {
   "cell_type": "code",
   "execution_count": null,
   "metadata": {
    "collapsed": false
   },
   "outputs": [],
   "source": []
  },
  {
   "cell_type": "code",
   "execution_count": null,
   "metadata": {
    "collapsed": true
   },
   "outputs": [],
   "source": []
  }
 ],
 "metadata": {
  "kernelspec": {
   "display_name": "Python 2",
   "language": "python",
   "name": "python2"
  },
  "language_info": {
   "codemirror_mode": {
    "name": "ipython",
    "version": 2
   },
   "file_extension": ".py",
   "mimetype": "text/x-python",
   "name": "python",
   "nbconvert_exporter": "python",
   "pygments_lexer": "ipython2",
   "version": "2.7.9"
  }
 },
 "nbformat": 4,
 "nbformat_minor": 0
}
