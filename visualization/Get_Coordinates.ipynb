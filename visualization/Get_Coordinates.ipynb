{
 "cells": [
  {
   "cell_type": "markdown",
   "metadata": {},
   "source": [
    "test by david"
   ]
  },
  {
   "cell_type": "code",
   "execution_count": 2,
   "metadata": {
    "collapsed": false
   },
   "outputs": [],
   "source": [
    "import numpy as np\n",
    "import pandas as pd\n",
    "import matplotlib.pyplot as plt\n",
    "import mpl_toolkits\n",
    "from matplotlib import cm as CM\n",
    "from matplotlib import mlab as ml"
   ]
  },
  {
   "cell_type": "code",
   "execution_count": 13,
   "metadata": {
    "collapsed": false
   },
   "outputs": [],
   "source": [
    "#Modify the text file with coordinates into a format more easily accessible to load into a panda dataframe\n",
    "with open('KL_Tageswerte_Beschreibung_Stationen.txt', 'r') as ro, \\\n",
    "    open('coordinates.txt', 'a') as rw: #create a new file with the name coordinated\n",
    "      for line in ro.readlines(): \n",
    "        Stations_id=line[0:11] #define where to split the string of information based on number of characters\n",
    "        von_datum=line[12:20]\n",
    "        bis_datum=line[21:29]\n",
    "        Stationshoehe=line[30:44]\n",
    "        geoBreite=line[45:56]\n",
    "        geoLaenge=line[57:66]\n",
    "        Stationsname=line[67:108]\n",
    "        Bundesland=line[108:]\n",
    "\n",
    "        Stations_id_strip=Stations_id.strip() #remove space before and after the value\n",
    "        von_datum_strip=von_datum.strip()\n",
    "        bis_datum_strip=bis_datum.strip()\n",
    "        Stationshoehe_strip=Stationshoehe.strip()\n",
    "        geoBreite_strip=geoBreite.strip()\n",
    "        geoLaenge_strip=geoLaenge.strip()\n",
    "        Stationsname_strip=Stationsname.strip()\n",
    "        Bundesland_strip=Bundesland.strip()\n",
    "\n",
    "        seq = (Stations_id_strip, von_datum_strip,bis_datum_strip,Stationshoehe_strip,geoBreite_strip,geoLaenge_strip,Stationsname_strip,Bundesland_strip)\n",
    "        rw.write(';'.join(seq) + '\\n') #write a new file with the different columns joined but separated with a ;)"
   ]
  },
  {
   "cell_type": "code",
   "execution_count": 27,
   "metadata": {
    "collapsed": false
   },
   "outputs": [],
   "source": [
    "stations_temp=pd.read_table('coordinates.txt', sep=';') #read the newly created date file\n",
    "hop=stations_temp.as_matrix(columns=None) # convert to an array\n",
    "test=hop[1:-1,4:6]"
   ]
  },
  {
   "cell_type": "code",
   "execution_count": null,
   "metadata": {
    "collapsed": false
   },
   "outputs": [],
   "source": []
  },
  {
   "cell_type": "code",
   "execution_count": 38,
   "metadata": {
    "collapsed": false
   },
   "outputs": [],
   "source": []
  },
  {
   "cell_type": "code",
   "execution_count": null,
   "metadata": {
    "collapsed": false
   },
   "outputs": [],
   "source": []
  },
  {
   "cell_type": "code",
   "execution_count": null,
   "metadata": {
    "collapsed": false
   },
   "outputs": [],
   "source": []
  },
  {
   "cell_type": "code",
   "execution_count": null,
   "metadata": {
    "collapsed": true
   },
   "outputs": [],
   "source": []
  }
 ],
 "metadata": {
  "kernelspec": {
   "display_name": "Python 2",
   "language": "python",
   "name": "python2"
  },
  "language_info": {
   "codemirror_mode": {
    "name": "ipython",
    "version": 2
   },
   "file_extension": ".py",
   "mimetype": "text/x-python",
   "name": "python",
   "nbconvert_exporter": "python",
   "pygments_lexer": "ipython2",
   "version": "2.7.9"
  }
 },
 "nbformat": 4,
 "nbformat_minor": 0
}
